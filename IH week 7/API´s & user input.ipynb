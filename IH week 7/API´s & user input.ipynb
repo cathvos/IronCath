{
 "cells": [
  {
   "cell_type": "markdown",
   "id": "15ec04da",
   "metadata": {},
   "source": [
    "# 1. User input"
   ]
  },
  {
   "cell_type": "code",
   "execution_count": 1,
   "id": "d462a5d2",
   "metadata": {},
   "outputs": [
    {
     "name": "stdout",
     "output_type": "stream",
     "text": [
      "enter some value: hi\n"
     ]
    }
   ],
   "source": [
    "entered_value=input('enter some value: ')"
   ]
  },
  {
   "cell_type": "code",
   "execution_count": 2,
   "id": "ecb8d1c9",
   "metadata": {},
   "outputs": [
    {
     "data": {
      "text/plain": [
       "'hi'"
      ]
     },
     "execution_count": 2,
     "metadata": {},
     "output_type": "execute_result"
    }
   ],
   "source": [
    "entered_value"
   ]
  },
  {
   "cell_type": "code",
   "execution_count": 6,
   "id": "9a1c95ab",
   "metadata": {},
   "outputs": [
    {
     "name": "stdout",
     "output_type": "stream",
     "text": [
      "enter your name    CAth\n",
      "enter your shoe size 37\n"
     ]
    }
   ],
   "source": [
    "name=input('enter your name ').lstrip().rstrip().lower()\n",
    "shoe_size=int(input('enter your shoe size '))"
   ]
  },
  {
   "cell_type": "code",
   "execution_count": 8,
   "id": "b4ac6d9e",
   "metadata": {},
   "outputs": [
    {
     "data": {
      "text/plain": [
       "'cath'"
      ]
     },
     "execution_count": 8,
     "metadata": {},
     "output_type": "execute_result"
    }
   ],
   "source": [
    "name"
   ]
  },
  {
   "cell_type": "markdown",
   "id": "7ac4c1b3",
   "metadata": {},
   "source": [
    "# 1.1 exception handling"
   ]
  },
  {
   "cell_type": "code",
   "execution_count": 10,
   "id": "68792178",
   "metadata": {},
   "outputs": [
    {
     "name": "stdout",
     "output_type": "stream",
     "text": [
      "enter your shoe size in whole numbers: 40\n",
      "great job, thats a shoesize. the number is  40\n"
     ]
    }
   ],
   "source": [
    "try:\n",
    "    shoe_size=int(input('enter your shoe size in whole numbers: '))\n",
    "    print('great job, thats a shoesize. the number is ',shoe_size)\n",
    "\n",
    "except ValueError:\n",
    "    print('this is not a whole number, try again....')"
   ]
  },
  {
   "cell_type": "code",
   "execution_count": 11,
   "id": "29c61446",
   "metadata": {},
   "outputs": [
    {
     "name": "stdout",
     "output_type": "stream",
     "text": [
      "enter a song... r\n",
      "input to short, please try again\n"
     ]
    }
   ],
   "source": [
    "if len(input('enter a song... ')) < 2:\n",
    "    print('input to short, please try again')"
   ]
  },
  {
   "cell_type": "markdown",
   "id": "c87ee230",
   "metadata": {},
   "source": [
    "# 1.2 is this in a list of values"
   ]
  },
  {
   "cell_type": "code",
   "execution_count": 14,
   "id": "76d3f543",
   "metadata": {},
   "outputs": [],
   "source": [
    "guest_list=['sian', 'andy', 'miguel', 'roger']"
   ]
  },
  {
   "cell_type": "code",
   "execution_count": null,
   "id": "f4bd5419",
   "metadata": {},
   "outputs": [],
   "source": [
    "yourname=input('tell me your name please ')"
   ]
  },
  {
   "cell_type": "code",
   "execution_count": null,
   "id": "0d939056",
   "metadata": {},
   "outputs": [],
   "source": [
    "if yourname in guest_list:\n",
    "    print('welcome you are on the guest list, get a free cocktail ')\n",
    "else:\n",
    "    print ('your name is not down and youre not coming in')"
   ]
  },
  {
   "cell_type": "code",
   "execution_count": null,
   "id": "a9db3925",
   "metadata": {},
   "outputs": [],
   "source": []
  },
  {
   "cell_type": "code",
   "execution_count": null,
   "id": "476bc106",
   "metadata": {},
   "outputs": [],
   "source": []
  }
 ],
 "metadata": {
  "kernelspec": {
   "display_name": "Python 3 (ipykernel)",
   "language": "python",
   "name": "python3"
  },
  "language_info": {
   "codemirror_mode": {
    "name": "ipython",
    "version": 3
   },
   "file_extension": ".py",
   "mimetype": "text/x-python",
   "name": "python",
   "nbconvert_exporter": "python",
   "pygments_lexer": "ipython3",
   "version": "3.8.2"
  }
 },
 "nbformat": 4,
 "nbformat_minor": 5
}
