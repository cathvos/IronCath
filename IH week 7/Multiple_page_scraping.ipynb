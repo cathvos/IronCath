{
 "cells": [
  {
   "cell_type": "code",
   "execution_count": 1,
   "id": "63f61da8",
   "metadata": {},
   "outputs": [],
   "source": [
    "import pandas as pd\n",
    "import requests\n",
    "from bs4 import BeautifulSoup\n",
    "from time import sleep\n",
    "from random import randint"
   ]
  },
  {
   "cell_type": "markdown",
   "id": "ec65746e",
   "metadata": {},
   "source": [
    "# 1. first example of multi page scraping"
   ]
  },
  {
   "cell_type": "code",
   "execution_count": null,
   "id": "90e37c79",
   "metadata": {},
   "outputs": [],
   "source": []
  },
  {
   "cell_type": "code",
   "execution_count": null,
   "id": "ca28986e",
   "metadata": {},
   "outputs": [],
   "source": []
  },
  {
   "cell_type": "markdown",
   "id": "6ae1e012",
   "metadata": {},
   "source": [
    "# 2. second example, scraping presidents of the US from wikipedia"
   ]
  },
  {
   "cell_type": "code",
   "execution_count": null,
   "id": "08a7daa1",
   "metadata": {},
   "outputs": [],
   "source": [
    "- the list of the presidents page\n",
    "- from the list we take the name or ref to next page - this gives a url\n",
    "- go to the presidents own page\n",
    "- pull information from the table in that page\n",
    "- assemble a data frame\n",
    "\n",
    "name, birthdate, party ....."
   ]
  },
  {
   "cell_type": "code",
   "execution_count": 2,
   "id": "67db34e1",
   "metadata": {},
   "outputs": [],
   "source": [
    "url='https://en.wikipedia.org/wiki/List_of_presidents_of_the_United_States'"
   ]
  },
  {
   "cell_type": "code",
   "execution_count": 3,
   "id": "85772133",
   "metadata": {},
   "outputs": [
    {
     "data": {
      "text/plain": [
       "200"
      ]
     },
     "execution_count": 3,
     "metadata": {},
     "output_type": "execute_result"
    }
   ],
   "source": [
    "response=requests.get(url)\n",
    "response.status_code"
   ]
  },
  {
   "cell_type": "code",
   "execution_count": 4,
   "id": "f966b7f7",
   "metadata": {},
   "outputs": [],
   "source": [
    "soup=BeautifulSoup(response.content, 'html.parser')"
   ]
  },
  {
   "cell_type": "code",
   "execution_count": 5,
   "id": "65880299",
   "metadata": {},
   "outputs": [
    {
     "data": {
      "text/plain": [
       "[<a href=\"/wiki/George_Washington\" title=\"George Washington\">George Washington</a>,\n",
       " <a href=\"/wiki/John_Adams\" title=\"John Adams\">John Adams</a>,\n",
       " <a href=\"/wiki/Thomas_Jefferson\" title=\"Thomas Jefferson\">Thomas Jefferson</a>,\n",
       " <a href=\"/wiki/James_Madison\" title=\"James Madison\">James Madison</a>,\n",
       " <a href=\"/wiki/James_Monroe\" title=\"James Monroe\">James Monroe</a>,\n",
       " <a href=\"/wiki/John_Quincy_Adams\" title=\"John Quincy Adams\">John Quincy Adams</a>,\n",
       " <a href=\"/wiki/Andrew_Jackson\" title=\"Andrew Jackson\">Andrew Jackson</a>,\n",
       " <a href=\"/wiki/Martin_Van_Buren\" title=\"Martin Van Buren\">Martin Van Buren</a>,\n",
       " <a href=\"/wiki/William_Henry_Harrison\" title=\"William Henry Harrison\">William Henry Harrison</a>,\n",
       " <a href=\"/wiki/John_Tyler\" title=\"John Tyler\">John Tyler</a>,\n",
       " <a href=\"/wiki/James_K._Polk\" title=\"James K. Polk\">James K. Polk</a>,\n",
       " <a href=\"/wiki/Zachary_Taylor\" title=\"Zachary Taylor\">Zachary Taylor</a>,\n",
       " <a href=\"/wiki/Millard_Fillmore\" title=\"Millard Fillmore\">Millard Fillmore</a>,\n",
       " <a href=\"/wiki/Franklin_Pierce\" title=\"Franklin Pierce\">Franklin Pierce</a>,\n",
       " <a href=\"/wiki/James_Buchanan\" title=\"James Buchanan\">James Buchanan</a>,\n",
       " <a href=\"/wiki/Abraham_Lincoln\" title=\"Abraham Lincoln\">Abraham Lincoln</a>,\n",
       " <a href=\"/wiki/Andrew_Johnson\" title=\"Andrew Johnson\">Andrew Johnson</a>,\n",
       " <a href=\"/wiki/Ulysses_S._Grant\" title=\"Ulysses S. Grant\">Ulysses S. Grant</a>,\n",
       " <a href=\"/wiki/Rutherford_B._Hayes\" title=\"Rutherford B. Hayes\">Rutherford B. Hayes</a>,\n",
       " <a href=\"/wiki/James_A._Garfield\" title=\"James A. Garfield\">James A. Garfield</a>,\n",
       " <a href=\"/wiki/Chester_A._Arthur\" title=\"Chester A. Arthur\">Chester A. Arthur</a>,\n",
       " <a href=\"/wiki/Grover_Cleveland\" title=\"Grover Cleveland\">Grover Cleveland</a>,\n",
       " <a href=\"/wiki/Benjamin_Harrison\" title=\"Benjamin Harrison\">Benjamin Harrison</a>,\n",
       " <a href=\"/wiki/Grover_Cleveland\" title=\"Grover Cleveland\">Grover Cleveland</a>,\n",
       " <a href=\"/wiki/William_McKinley\" title=\"William McKinley\">William McKinley</a>,\n",
       " <a href=\"/wiki/Theodore_Roosevelt\" title=\"Theodore Roosevelt\">Theodore Roosevelt</a>,\n",
       " <a href=\"/wiki/William_Howard_Taft\" title=\"William Howard Taft\">William Howard Taft</a>,\n",
       " <a href=\"/wiki/Woodrow_Wilson\" title=\"Woodrow Wilson\">Woodrow Wilson</a>,\n",
       " <a href=\"/wiki/Warren_G._Harding\" title=\"Warren G. Harding\">Warren G. Harding</a>,\n",
       " <a href=\"/wiki/Calvin_Coolidge\" title=\"Calvin Coolidge\">Calvin Coolidge</a>,\n",
       " <a href=\"/wiki/Herbert_Hoover\" title=\"Herbert Hoover\">Herbert Hoover</a>,\n",
       " <a href=\"/wiki/Franklin_D._Roosevelt\" title=\"Franklin D. Roosevelt\">Franklin D. Roosevelt</a>,\n",
       " <a href=\"/wiki/Harry_S._Truman\" title=\"Harry S. Truman\">Harry S. Truman</a>,\n",
       " <a href=\"/wiki/Dwight_D._Eisenhower\" title=\"Dwight D. Eisenhower\">Dwight D. Eisenhower</a>,\n",
       " <a href=\"/wiki/John_F._Kennedy\" title=\"John F. Kennedy\">John F. Kennedy</a>,\n",
       " <a href=\"/wiki/Lyndon_B._Johnson\" title=\"Lyndon B. Johnson\">Lyndon B. Johnson</a>,\n",
       " <a href=\"/wiki/Richard_Nixon\" title=\"Richard Nixon\">Richard Nixon</a>,\n",
       " <a href=\"/wiki/Gerald_Ford\" title=\"Gerald Ford\">Gerald Ford</a>,\n",
       " <a href=\"/wiki/Jimmy_Carter\" title=\"Jimmy Carter\">Jimmy Carter</a>,\n",
       " <a href=\"/wiki/Ronald_Reagan\" title=\"Ronald Reagan\">Ronald Reagan</a>,\n",
       " <a href=\"/wiki/George_H._W._Bush\" title=\"George H. W. Bush\">George H. W. Bush</a>,\n",
       " <a href=\"/wiki/Bill_Clinton\" title=\"Bill Clinton\">Bill Clinton</a>,\n",
       " <a href=\"/wiki/George_W._Bush\" title=\"George W. Bush\">George W. Bush</a>,\n",
       " <a href=\"/wiki/Barack_Obama\" title=\"Barack Obama\">Barack Obama</a>,\n",
       " <a href=\"/wiki/Donald_Trump\" title=\"Donald Trump\">Donald Trump</a>,\n",
       " <a href=\"/wiki/Joe_Biden\" title=\"Joe Biden\">Joe Biden</a>]"
      ]
     },
     "execution_count": 5,
     "metadata": {},
     "output_type": "execute_result"
    }
   ],
   "source": [
    "soup.select('td:nth-child(3) > b > a')"
   ]
  },
  {
   "cell_type": "code",
   "execution_count": 6,
   "id": "e930e923",
   "metadata": {},
   "outputs": [],
   "source": [
    "presi_urls=soup.select('td:nth-child(3) > b > a')"
   ]
  },
  {
   "cell_type": "code",
   "execution_count": 7,
   "id": "41f2c937",
   "metadata": {},
   "outputs": [
    {
     "data": {
      "text/plain": [
       "'/wiki/George_Washington'"
      ]
     },
     "execution_count": 7,
     "metadata": {},
     "output_type": "execute_result"
    }
   ],
   "source": [
    "presi_urls[0]['href']"
   ]
  },
  {
   "cell_type": "code",
   "execution_count": 8,
   "id": "01ed502b",
   "metadata": {},
   "outputs": [
    {
     "data": {
      "text/plain": [
       "46"
      ]
     },
     "execution_count": 8,
     "metadata": {},
     "output_type": "execute_result"
    }
   ],
   "source": [
    "len(presi_urls)"
   ]
  },
  {
   "cell_type": "code",
   "execution_count": 9,
   "id": "c91beb9a",
   "metadata": {},
   "outputs": [],
   "source": [
    "links=[]\n",
    "for p in presi_urls:\n",
    "    href1=p['href']\n",
    "    url='https://en.wikipedia.org'+href1\n",
    "    links.append(url)"
   ]
  },
  {
   "cell_type": "code",
   "execution_count": 10,
   "id": "37c926b0",
   "metadata": {},
   "outputs": [
    {
     "data": {
      "text/plain": [
       "['https://en.wikipedia.org/wiki/George_Washington',\n",
       " 'https://en.wikipedia.org/wiki/John_Adams',\n",
       " 'https://en.wikipedia.org/wiki/Thomas_Jefferson',\n",
       " 'https://en.wikipedia.org/wiki/James_Madison',\n",
       " 'https://en.wikipedia.org/wiki/James_Monroe',\n",
       " 'https://en.wikipedia.org/wiki/John_Quincy_Adams',\n",
       " 'https://en.wikipedia.org/wiki/Andrew_Jackson',\n",
       " 'https://en.wikipedia.org/wiki/Martin_Van_Buren',\n",
       " 'https://en.wikipedia.org/wiki/William_Henry_Harrison',\n",
       " 'https://en.wikipedia.org/wiki/John_Tyler',\n",
       " 'https://en.wikipedia.org/wiki/James_K._Polk',\n",
       " 'https://en.wikipedia.org/wiki/Zachary_Taylor',\n",
       " 'https://en.wikipedia.org/wiki/Millard_Fillmore',\n",
       " 'https://en.wikipedia.org/wiki/Franklin_Pierce',\n",
       " 'https://en.wikipedia.org/wiki/James_Buchanan',\n",
       " 'https://en.wikipedia.org/wiki/Abraham_Lincoln',\n",
       " 'https://en.wikipedia.org/wiki/Andrew_Johnson',\n",
       " 'https://en.wikipedia.org/wiki/Ulysses_S._Grant',\n",
       " 'https://en.wikipedia.org/wiki/Rutherford_B._Hayes',\n",
       " 'https://en.wikipedia.org/wiki/James_A._Garfield',\n",
       " 'https://en.wikipedia.org/wiki/Chester_A._Arthur',\n",
       " 'https://en.wikipedia.org/wiki/Grover_Cleveland',\n",
       " 'https://en.wikipedia.org/wiki/Benjamin_Harrison',\n",
       " 'https://en.wikipedia.org/wiki/Grover_Cleveland',\n",
       " 'https://en.wikipedia.org/wiki/William_McKinley',\n",
       " 'https://en.wikipedia.org/wiki/Theodore_Roosevelt',\n",
       " 'https://en.wikipedia.org/wiki/William_Howard_Taft',\n",
       " 'https://en.wikipedia.org/wiki/Woodrow_Wilson',\n",
       " 'https://en.wikipedia.org/wiki/Warren_G._Harding',\n",
       " 'https://en.wikipedia.org/wiki/Calvin_Coolidge',\n",
       " 'https://en.wikipedia.org/wiki/Herbert_Hoover',\n",
       " 'https://en.wikipedia.org/wiki/Franklin_D._Roosevelt',\n",
       " 'https://en.wikipedia.org/wiki/Harry_S._Truman',\n",
       " 'https://en.wikipedia.org/wiki/Dwight_D._Eisenhower',\n",
       " 'https://en.wikipedia.org/wiki/John_F._Kennedy',\n",
       " 'https://en.wikipedia.org/wiki/Lyndon_B._Johnson',\n",
       " 'https://en.wikipedia.org/wiki/Richard_Nixon',\n",
       " 'https://en.wikipedia.org/wiki/Gerald_Ford',\n",
       " 'https://en.wikipedia.org/wiki/Jimmy_Carter',\n",
       " 'https://en.wikipedia.org/wiki/Ronald_Reagan',\n",
       " 'https://en.wikipedia.org/wiki/George_H._W._Bush',\n",
       " 'https://en.wikipedia.org/wiki/Bill_Clinton',\n",
       " 'https://en.wikipedia.org/wiki/George_W._Bush',\n",
       " 'https://en.wikipedia.org/wiki/Barack_Obama',\n",
       " 'https://en.wikipedia.org/wiki/Donald_Trump',\n",
       " 'https://en.wikipedia.org/wiki/Joe_Biden']"
      ]
     },
     "execution_count": 10,
     "metadata": {},
     "output_type": "execute_result"
    }
   ],
   "source": [
    "links"
   ]
  },
  {
   "cell_type": "code",
   "execution_count": null,
   "id": "03ba9e42",
   "metadata": {},
   "outputs": [],
   "source": [
    "# info box label info box data"
   ]
  },
  {
   "cell_type": "code",
   "execution_count": 11,
   "id": "e0ce2cc2",
   "metadata": {},
   "outputs": [],
   "source": [
    "url= 'https://en.wikipedia.org/wiki/Joe_Biden'"
   ]
  },
  {
   "cell_type": "code",
   "execution_count": 12,
   "id": "71199e85",
   "metadata": {},
   "outputs": [],
   "source": [
    "response=requests.get(url)"
   ]
  },
  {
   "cell_type": "code",
   "execution_count": 13,
   "id": "2ae9ec98",
   "metadata": {},
   "outputs": [
    {
     "data": {
      "text/plain": [
       "200"
      ]
     },
     "execution_count": 13,
     "metadata": {},
     "output_type": "execute_result"
    }
   ],
   "source": [
    "response.status_code"
   ]
  },
  {
   "cell_type": "code",
   "execution_count": 14,
   "id": "1183dc16",
   "metadata": {},
   "outputs": [],
   "source": [
    "soup=BeautifulSoup(response.content, 'html.parser')"
   ]
  },
  {
   "cell_type": "code",
   "execution_count": 15,
   "id": "8f4044d3",
   "metadata": {},
   "outputs": [
    {
     "data": {
      "text/plain": [
       "<table class=\"infobox vcard\"><tbody><tr><th class=\"infobox-above\" colspan=\"2\" style=\"font-size: 100%;\"><div class=\"fn\" style=\"font-size:125%;\">Joe Biden</div></th></tr><tr><td class=\"infobox-image\" colspan=\"2\"><a class=\"image\" href=\"/wiki/File:Joe_Biden_presidential_portrait.jpg\"><img alt=\"Joe Biden presidential portrait.jpg\" data-file-height=\"3000\" data-file-width=\"2400\" decoding=\"async\" height=\"275\" src=\"//upload.wikimedia.org/wikipedia/commons/thumb/6/68/Joe_Biden_presidential_portrait.jpg/220px-Joe_Biden_presidential_portrait.jpg\" srcset=\"//upload.wikimedia.org/wikipedia/commons/thumb/6/68/Joe_Biden_presidential_portrait.jpg/330px-Joe_Biden_presidential_portrait.jpg 1.5x, //upload.wikimedia.org/wikipedia/commons/thumb/6/68/Joe_Biden_presidential_portrait.jpg/440px-Joe_Biden_presidential_portrait.jpg 2x\" width=\"220\"/></a><div class=\"infobox-caption\" style=\"line-height:normal;padding-top:0.2em;\">Official portrait, 2021</div></td></tr><tr><td class=\"infobox-full-data\" colspan=\"2\"><link href=\"mw-data:TemplateStyles:r1066479718\" rel=\"mw-deduplicated-inline-style\"/></td></tr><tr><th class=\"infobox-header\" colspan=\"2\" style=\"background:lavender;line-height:normal;padding:0.2em;\">46th <a href=\"/wiki/President_of_the_United_States\" title=\"President of the United States\">President of the United States</a></th></tr><tr><td class=\"infobox-full-data\" colspan=\"2\" style=\"border-bottom:none\"><div style=\"width:100%; margin:0; background-color: lavender\"><b><a href=\"/wiki/Incumbent\" title=\"Incumbent\">Incumbent</a></b></div></td></tr><tr><td class=\"infobox-full-data\" colspan=\"2\" style=\"border-bottom:none\"><span class=\"nowrap\"><b>Assumed office</b></span> <br/>January 20, 2021</td><link href=\"mw-data:TemplateStyles:r1066479718\" rel=\"mw-deduplicated-inline-style\"/></tr><tr><th class=\"infobox-label\" scope=\"row\" style=\"text-align:left\"><span class=\"nowrap\"><a href=\"/wiki/Vice_President_of_the_United_States\" title=\"Vice President of the United States\">Vice President</a></span></th><td class=\"infobox-data\"><a href=\"/wiki/Kamala_Harris\" title=\"Kamala Harris\">Kamala Harris</a></td></tr><tr><th class=\"infobox-label\" scope=\"row\" style=\"text-align:left\"><span class=\"nowrap\">Preceded by</span></th><td class=\"infobox-data\"><a href=\"/wiki/Donald_Trump\" title=\"Donald Trump\">Donald Trump</a></td><link href=\"mw-data:TemplateStyles:r1066479718\" rel=\"mw-deduplicated-inline-style\"/></tr><tr><th class=\"infobox-header\" colspan=\"2\" style=\"background:lavender;line-height:normal;padding:0.2em;\">47th <a href=\"/wiki/Vice_President_of_the_United_States\" title=\"Vice President of the United States\">Vice President of the United States</a></th></tr><tr><td class=\"infobox-full-data\" colspan=\"2\" style=\"border-bottom:none\"><span class=\"nowrap\"><b>In office</b></span><br/>January 20, 2009 – January 20, 2017</td><link href=\"mw-data:TemplateStyles:r1066479718\" rel=\"mw-deduplicated-inline-style\"/></tr><tr><th class=\"infobox-label\" scope=\"row\" style=\"text-align:left\">President</th><td class=\"infobox-data\"><a href=\"/wiki/Barack_Obama\" title=\"Barack Obama\">Barack Obama</a></td></tr><tr><th class=\"infobox-label\" scope=\"row\" style=\"text-align:left\"><span class=\"nowrap\">Preceded by</span></th><td class=\"infobox-data\"><a href=\"/wiki/Dick_Cheney\" title=\"Dick Cheney\">Dick Cheney</a></td></tr><tr><th class=\"infobox-label\" scope=\"row\" style=\"text-align:left\"><span class=\"nowrap\">Succeeded by</span></th><td class=\"infobox-data\"><a href=\"/wiki/Mike_Pence\" title=\"Mike Pence\">Mike Pence</a></td><link href=\"mw-data:TemplateStyles:r1066479718\" rel=\"mw-deduplicated-inline-style\"/></tr><tr><th class=\"infobox-header\" colspan=\"2\" style=\"background:lavender;line-height:normal;padding:0.2em;\"><a href=\"/wiki/United_States_Senate\" title=\"United States Senate\">United States Senator</a><br/>from <a href=\"/wiki/Delaware\" title=\"Delaware\">Delaware</a></th></tr><tr><td class=\"infobox-full-data\" colspan=\"2\" style=\"border-bottom:none\"><span class=\"nowrap\"><b>In office</b></span><br/>January 3, 1973 – January 15, 2009</td><link href=\"mw-data:TemplateStyles:r1066479718\" rel=\"mw-deduplicated-inline-style\"/></tr><tr><th class=\"infobox-label\" scope=\"row\" style=\"text-align:left\"><span class=\"nowrap\">Preceded by</span></th><td class=\"infobox-data\"><a href=\"/wiki/J._Caleb_Boggs\" title=\"J. Caleb Boggs\">J. Caleb Boggs</a></td></tr><tr><th class=\"infobox-label\" scope=\"row\" style=\"text-align:left\"><span class=\"nowrap\">Succeeded by</span></th><td class=\"infobox-data\"><a href=\"/wiki/Ted_Kaufman\" title=\"Ted Kaufman\">Ted Kaufman</a></td></tr><tr style=\"display:none\"><td colspan=\"2\">\n",
       "</td></tr><tr><th class=\"infobox-header\" colspan=\"2\" style=\"background:lavender\">Personal details</th></tr><tr><th class=\"infobox-label\" scope=\"row\">Born</th><td class=\"infobox-data\"><div class=\"nickname\" style=\"display:inline\">Joseph Robinette Biden Jr.</div><br/><span style=\"display:none\"> (<span class=\"bday\">1942-11-20</span>) </span>November 20, 1942<span class=\"noprint ForceAgeToShow\"> (age 79)</span><br/><a href=\"/wiki/Scranton,_Pennsylvania\" title=\"Scranton, Pennsylvania\">Scranton, Pennsylvania</a>, U.S.</td></tr><tr><th class=\"infobox-label\" scope=\"row\">Political party</th><td class=\"infobox-data\"><a href=\"/wiki/Democratic_Party_(United_States)\" title=\"Democratic Party (United States)\">Democratic</a> (1969–present)</td></tr><tr><th class=\"infobox-label\" scope=\"row\">Other political<br/>affiliations</th><td class=\"infobox-data\"><a href=\"/wiki/Independent_politician\" title=\"Independent politician\">Independent</a> (before 1969)</td></tr><tr><th class=\"infobox-label\" scope=\"row\">Spouse(s)</th><td class=\"infobox-data\"><div class=\"plainlist\">\n",
       "<ul><li class=\"mw-empty-elt\"></li></ul>\n",
       "<div style=\"display:inline;white-space:nowrap;\"><div style=\"display:inline-block;line-height:normal;margin-top:1px;white-space:normal;\"><a href=\"/wiki/Neilia_Hunter_Biden\" title=\"Neilia Hunter Biden\">Neilia Hunter</a></div>\n",
       "<div style=\"line-height:0;margin-bottom:-2px;\">​</div> <div style=\"display:inline-block;margin-bottom:1px;\">​</div>(<abbr title=\"married\">m.</abbr> <span class=\"rt-commentedText\" title=\"August 27, 1966\">1966</span>; died <span class=\"rt-commentedText\" title=\"December 18, 1972\">1972</span>)<wbr/>​</div>\n",
       "<ul><li class=\"mw-empty-elt\"></li></ul>\n",
       "<div style=\"display:inline;white-space:nowrap;\"><div style=\"display:inline-block;line-height:normal;\"><a href=\"/wiki/Jill_Biden\" title=\"Jill Biden\">Jill Jacobs</a></div> <div style=\"display:inline-block;\">​</div>(<abbr title=\"married\">m.</abbr> <span class=\"rt-commentedText\" title=\"June 17, 1977\">1977</span>)<wbr/>​</div>\n",
       "</div></td></tr><tr><th class=\"infobox-label\" scope=\"row\">Children</th><td class=\"infobox-data\"><div class=\"hlist hlist-separated\">\n",
       "<ul><li><a href=\"/wiki/Beau_Biden\" title=\"Beau Biden\">Beau</a></li>\n",
       "<li><a href=\"/wiki/Hunter_Biden\" title=\"Hunter Biden\">Hunter</a></li>\n",
       "<li><a class=\"mw-redirect\" href=\"/wiki/Naomi_Biden\" title=\"Naomi Biden\">Naomi</a></li>\n",
       "<li><a href=\"/wiki/Ashley_Biden\" title=\"Ashley Biden\">Ashley</a></li></ul>\n",
       "</div></td></tr><tr><th class=\"infobox-label\" scope=\"row\">Relatives</th><td class=\"infobox-data\"><a href=\"/wiki/Family_of_Joe_Biden\" title=\"Family of Joe Biden\">Biden family</a></td></tr><tr><th class=\"infobox-label\" scope=\"row\"><a href=\"/wiki/Alma_mater\" title=\"Alma mater\">Alma mater</a></th><td class=\"infobox-data\"><div class=\"plainlist\">\n",
       "<ul><li><a href=\"/wiki/University_of_Delaware\" title=\"University of Delaware\">University of Delaware</a> (<a href=\"/wiki/Bachelor_of_Arts\" title=\"Bachelor of Arts\">BA</a>)</li>\n",
       "<li><a href=\"/wiki/Syracuse_University_College_of_Law\" title=\"Syracuse University College of Law\">Syracuse University</a> (<a href=\"/wiki/Juris_Doctor\" title=\"Juris Doctor\">JD</a>)</li></ul>\n",
       "</div></td></tr><tr><th class=\"infobox-label\" scope=\"row\">Occupation</th><td class=\"infobox-data\"><div class=\"hlist hlist-separated\"><ul><li>Politician</li><li>lawyer</li><li>author</li></ul></div></td></tr><tr><th class=\"infobox-label\" scope=\"row\">Awards</th><td class=\"infobox-data\"><a class=\"mw-redirect\" href=\"/wiki/List_of_honors_and_awards_received_by_Joe_Biden\" title=\"List of honors and awards received by Joe Biden\">List of honors and awards</a></td></tr><tr><th class=\"infobox-label\" scope=\"row\">Signature</th><td class=\"infobox-data\"><a class=\"image\" href=\"/wiki/File:Joe_Biden_Signature.svg\" title=\"Joe Biden's signature\"><img alt=\"\" data-file-height=\"119\" data-file-width=\"176\" decoding=\"async\" height=\"80\" src=\"//upload.wikimedia.org/wikipedia/commons/thumb/d/d9/Joe_Biden_Signature.svg/119px-Joe_Biden_Signature.svg.png\" srcset=\"//upload.wikimedia.org/wikipedia/commons/thumb/d/d9/Joe_Biden_Signature.svg/178px-Joe_Biden_Signature.svg.png 1.5x, //upload.wikimedia.org/wikipedia/commons/thumb/d/d9/Joe_Biden_Signature.svg/237px-Joe_Biden_Signature.svg.png 2x\" width=\"119\"/></a></td></tr><tr><th class=\"infobox-label\" scope=\"row\">Website</th><td class=\"infobox-data\"><div class=\"plainlist\">\n",
       "<ul><li><span class=\"url\"><a class=\"external text\" href=\"https://joebiden.com\" rel=\"nofollow\">Campaign website</a></span></li>\n",
       "<li><span class=\"url\"><a class=\"external text\" href=\"https://whitehouse.gov/administration/president-biden/\" rel=\"nofollow\">White House website</a></span></li></ul>\n",
       "</div></td></tr><tr><td class=\"infobox-full-data\" colspan=\"2\"><div class=\"mw-collapsible mw-collapsed\" style=\"text-align: center; font-size: 95%;\">\n",
       "<div style=\"line-height: 1.6em; font-weight: bold; font-size: 100%; text-align: left; background:lavender;text-align:center;\"><div style=\"margin: 0 4em\">Other offices</div></div>\n",
       "<ul class=\"mw-collapsible-content\" style=\"font-size: 105%; margin-top: 0; margin-bottom: 0; line-height: inherit; text-align: left;\"><li style=\"line-height: inherit; margin: 0\"> 2007–2009: Chair of the <a href=\"/wiki/United_States_Senate_Caucus_on_International_Narcotics_Control\" title=\"United States Senate Caucus on International Narcotics Control\">International Narcotics Control Caucus</a>\n",
       "</li><li style=\"line-height: inherit; margin: 0\"> 2001<sup class=\"reference\" id=\"cite_ref-1\"><a href=\"#cite_note-1\">[n 1]</a></sup>–2003, 2007–2009: Chair of the <a href=\"/wiki/United_States_Senate_Committee_on_Foreign_Relations\" title=\"United States Senate Committee on Foreign Relations\">Senate Foreign Relations Committee</a>\n",
       "</li><li style=\"line-height: inherit; margin: 0\"> 1987–1995: Chair of the <a href=\"/wiki/United_States_Senate_Committee_on_the_Judiciary\" title=\"United States Senate Committee on the Judiciary\">Senate Judiciary Committee</a>\n",
       "</li></ul>\n",
       "</div></td></tr><tr><td class=\"infobox-below\" colspan=\"2\" style=\"border-top: 1px solid right; font-size: 95%\"><div></div></td></tr></tbody></table>"
      ]
     },
     "execution_count": 15,
     "metadata": {},
     "output_type": "execute_result"
    }
   ],
   "source": [
    "soup.find('table',{'class': 'infobox vcard'})"
   ]
  },
  {
   "cell_type": "code",
   "execution_count": null,
   "id": "345ffd22",
   "metadata": {},
   "outputs": [],
   "source": []
  },
  {
   "cell_type": "code",
   "execution_count": null,
   "id": "0868a257",
   "metadata": {},
   "outputs": [],
   "source": []
  },
  {
   "cell_type": "code",
   "execution_count": null,
   "id": "0a0c4056",
   "metadata": {},
   "outputs": [],
   "source": []
  },
  {
   "cell_type": "code",
   "execution_count": null,
   "id": "1203a9fe",
   "metadata": {},
   "outputs": [],
   "source": []
  },
  {
   "cell_type": "code",
   "execution_count": null,
   "id": "f751105c",
   "metadata": {},
   "outputs": [],
   "source": []
  },
  {
   "cell_type": "code",
   "execution_count": null,
   "id": "c1e4eb96",
   "metadata": {},
   "outputs": [],
   "source": []
  }
 ],
 "metadata": {
  "kernelspec": {
   "display_name": "Python 3 (ipykernel)",
   "language": "python",
   "name": "python3"
  },
  "language_info": {
   "codemirror_mode": {
    "name": "ipython",
    "version": 3
   },
   "file_extension": ".py",
   "mimetype": "text/x-python",
   "name": "python",
   "nbconvert_exporter": "python",
   "pygments_lexer": "ipython3",
   "version": "3.8.2"
  }
 },
 "nbformat": 4,
 "nbformat_minor": 5
}
