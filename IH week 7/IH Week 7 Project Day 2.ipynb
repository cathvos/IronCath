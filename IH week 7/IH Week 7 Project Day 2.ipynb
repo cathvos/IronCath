{
 "cells": [
  {
   "cell_type": "code",
   "execution_count": 1,
   "id": "8426a61e",
   "metadata": {},
   "outputs": [],
   "source": [
    "import pandas as pd\n",
    "import requests\n",
    "from bs4 import BeautifulSoup\n",
    "import random "
   ]
  },
  {
   "cell_type": "code",
   "execution_count": 2,
   "id": "17a1216e",
   "metadata": {},
   "outputs": [],
   "source": [
    "df = pd.read_csv ('df_hot_100.csv',index_col=0)\n"
   ]
  },
  {
   "cell_type": "code",
   "execution_count": 3,
   "id": "3d21334a",
   "metadata": {},
   "outputs": [],
   "source": [
    "df['title'] = df['title'].str.lower()"
   ]
  },
  {
   "cell_type": "code",
   "execution_count": 4,
   "id": "eb08ce02",
   "metadata": {},
   "outputs": [],
   "source": [
    "df['artist'] = df['artist'].str.lower()"
   ]
  },
  {
   "cell_type": "code",
   "execution_count": 5,
   "id": "17a59c1e",
   "metadata": {},
   "outputs": [
    {
     "data": {
      "text/html": [
       "<div>\n",
       "<style scoped>\n",
       "    .dataframe tbody tr th:only-of-type {\n",
       "        vertical-align: middle;\n",
       "    }\n",
       "\n",
       "    .dataframe tbody tr th {\n",
       "        vertical-align: top;\n",
       "    }\n",
       "\n",
       "    .dataframe thead th {\n",
       "        text-align: right;\n",
       "    }\n",
       "</style>\n",
       "<table border=\"1\" class=\"dataframe\">\n",
       "  <thead>\n",
       "    <tr style=\"text-align: right;\">\n",
       "      <th></th>\n",
       "      <th>position</th>\n",
       "      <th>title</th>\n",
       "      <th>artist</th>\n",
       "    </tr>\n",
       "  </thead>\n",
       "  <tbody>\n",
       "    <tr>\n",
       "      <th>0</th>\n",
       "      <td>1</td>\n",
       "      <td>first class</td>\n",
       "      <td>jack harlow</td>\n",
       "    </tr>\n",
       "    <tr>\n",
       "      <th>1</th>\n",
       "      <td>2</td>\n",
       "      <td>as it was</td>\n",
       "      <td>harry styles</td>\n",
       "    </tr>\n",
       "    <tr>\n",
       "      <th>2</th>\n",
       "      <td>3</td>\n",
       "      <td>n95</td>\n",
       "      <td>kendrick lamar</td>\n",
       "    </tr>\n",
       "    <tr>\n",
       "      <th>3</th>\n",
       "      <td>4</td>\n",
       "      <td>wait for u</td>\n",
       "      <td>future featuring drake &amp; tems</td>\n",
       "    </tr>\n",
       "    <tr>\n",
       "      <th>4</th>\n",
       "      <td>5</td>\n",
       "      <td>die hard</td>\n",
       "      <td>kendrick lamar, blxst &amp; amanda reifer</td>\n",
       "    </tr>\n",
       "    <tr>\n",
       "      <th>...</th>\n",
       "      <td>...</td>\n",
       "      <td>...</td>\n",
       "      <td>...</td>\n",
       "    </tr>\n",
       "    <tr>\n",
       "      <th>95</th>\n",
       "      <td>96</td>\n",
       "      <td>the motto</td>\n",
       "      <td>tiesto &amp; ava max</td>\n",
       "    </tr>\n",
       "    <tr>\n",
       "      <th>96</th>\n",
       "      <td>97</td>\n",
       "      <td>me fui de vacaciones</td>\n",
       "      <td>bad bunny</td>\n",
       "    </tr>\n",
       "    <tr>\n",
       "      <th>97</th>\n",
       "      <td>98</td>\n",
       "      <td>hold my hand</td>\n",
       "      <td>lady gaga</td>\n",
       "    </tr>\n",
       "    <tr>\n",
       "      <th>98</th>\n",
       "      <td>99</td>\n",
       "      <td>ensename a bailar</td>\n",
       "      <td>bad bunny</td>\n",
       "    </tr>\n",
       "    <tr>\n",
       "      <th>99</th>\n",
       "      <td>100</td>\n",
       "      <td>flowers</td>\n",
       "      <td>lauren spencer-smith</td>\n",
       "    </tr>\n",
       "  </tbody>\n",
       "</table>\n",
       "<p>100 rows × 3 columns</p>\n",
       "</div>"
      ],
      "text/plain": [
       "    position                 title                                 artist\n",
       "0          1           first class                            jack harlow\n",
       "1          2             as it was                           harry styles\n",
       "2          3                   n95                         kendrick lamar\n",
       "3          4            wait for u          future featuring drake & tems\n",
       "4          5              die hard  kendrick lamar, blxst & amanda reifer\n",
       "..       ...                   ...                                    ...\n",
       "95        96             the motto                       tiesto & ava max\n",
       "96        97  me fui de vacaciones                              bad bunny\n",
       "97        98          hold my hand                              lady gaga\n",
       "98        99     ensename a bailar                              bad bunny\n",
       "99       100               flowers                   lauren spencer-smith\n",
       "\n",
       "[100 rows x 3 columns]"
      ]
     },
     "execution_count": 5,
     "metadata": {},
     "output_type": "execute_result"
    }
   ],
   "source": [
    "df"
   ]
  },
  {
   "cell_type": "code",
   "execution_count": 6,
   "id": "52f55e68",
   "metadata": {},
   "outputs": [
    {
     "name": "stdout",
     "output_type": "stream",
     "text": [
      "['first class', 'as it was', 'n95', 'wait for u', 'die hard', 'you proof', 'silent hill', 'united in grief', 'about damn time', 'big energy', 'father time', 'heat waves', 'rich spirit', 'me porto bonito', 'moscow mule', 'we cry together', 'enemy', 'titi me pregunto', 'worldwide steppers', 'count me out', 'stay', 'purple hearts', 'savior', 'woman', 'ghost', 'despues de la playa', 'party', 'wasted on you', 'cooped up', 'bad habits', 'puffin on zootiez', 'super gremlin', 'rich (interlude)', 'thats what i want', 'provenza', 'boyfriend', 'shivers', 'cold heart (pnau remix)', 'bam bam', 'mr. morale', 'crown', 'numb little bug', \"'til you can't\", 'mamiii', 'sweetest pie', 'aa', 'auntie diaries', 'trouble with a heartbreak', 'ojitos lindos', 'thought you should know', 'savior (interlude)', 'tarot', 'un ratito', \"doin' this\", 'mirror', 'take my name', 'thousand miles', 'to the moon!', 'mother i sober', 'in a minute', 'yo no soy celoso', 'damn strait', 'dua lipa', \"she's all i wanna be\", 'efecto', \"when you're gone\", 'get into it (yuh)', 'freaky deaky', 'neverita', '2step', 'never say never', 'la corriente', 'what happened to virgil', 'right on', 'something in the orange', 'slow down summer', 'the heart part 5', 'churchill downs', 'love you better', \"i'm on one\", 'andrea', 'never wanted to be that girl', 'dos mil 16', 'flower shops', 'aguacero', 'if i was a cowboy', 'otro atardecer', 'un coco', 'el apagon', 'pushin p', 'me or sum', 'fall in love', '712pm', \"don't think jesus\", 'no love', 'the motto', 'me fui de vacaciones', 'hold my hand', 'ensename a bailar', 'flowers']\n"
     ]
    }
   ],
   "source": [
    "song_title = df['title'].values.tolist()\n",
    "print(song_title)"
   ]
  },
  {
   "cell_type": "code",
   "execution_count": 9,
   "id": "a510cf20",
   "metadata": {},
   "outputs": [
    {
     "name": "stdout",
     "output_type": "stream",
     "text": [
      "What is your favorite song? no love\n",
      "The song you choose is hot! Maybe you´ll also like  silent hill\n"
     ]
    }
   ],
   "source": [
    "music_recomender=input('What is your favorite song? ').lstrip().rstrip().lower()\n",
    "if len(music_recomender) < 2:\n",
    "    print('input to short, please try again')\n",
    "elif music_recomender in song_title:\n",
    "    print('The song you choose is hot! Maybe you´ll also like ', random.choice(song_title))\n",
    "else:\n",
    "    print('You choose a non hot song, we have no recomendations')\n"
   ]
  },
  {
   "cell_type": "code",
   "execution_count": null,
   "id": "bb4bd3cf",
   "metadata": {},
   "outputs": [],
   "source": []
  },
  {
   "cell_type": "code",
   "execution_count": null,
   "id": "cacff0cf",
   "metadata": {},
   "outputs": [],
   "source": []
  },
  {
   "cell_type": "code",
   "execution_count": null,
   "id": "405175ef",
   "metadata": {},
   "outputs": [],
   "source": []
  },
  {
   "cell_type": "code",
   "execution_count": null,
   "id": "40596505",
   "metadata": {},
   "outputs": [],
   "source": []
  },
  {
   "cell_type": "code",
   "execution_count": null,
   "id": "85fe18be",
   "metadata": {},
   "outputs": [],
   "source": []
  },
  {
   "cell_type": "code",
   "execution_count": null,
   "id": "b0ad185b",
   "metadata": {},
   "outputs": [],
   "source": []
  },
  {
   "cell_type": "code",
   "execution_count": null,
   "id": "2d0ed570",
   "metadata": {},
   "outputs": [],
   "source": []
  },
  {
   "cell_type": "code",
   "execution_count": null,
   "id": "3991d7ae",
   "metadata": {},
   "outputs": [],
   "source": []
  },
  {
   "cell_type": "code",
   "execution_count": null,
   "id": "a938d1be",
   "metadata": {},
   "outputs": [],
   "source": []
  },
  {
   "cell_type": "code",
   "execution_count": null,
   "id": "a563c9c6",
   "metadata": {},
   "outputs": [],
   "source": []
  }
 ],
 "metadata": {
  "kernelspec": {
   "display_name": "Python 3 (ipykernel)",
   "language": "python",
   "name": "python3"
  },
  "language_info": {
   "codemirror_mode": {
    "name": "ipython",
    "version": 3
   },
   "file_extension": ".py",
   "mimetype": "text/x-python",
   "name": "python",
   "nbconvert_exporter": "python",
   "pygments_lexer": "ipython3",
   "version": "3.8.2"
  }
 },
 "nbformat": 4,
 "nbformat_minor": 5
}
