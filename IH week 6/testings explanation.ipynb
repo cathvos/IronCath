{
 "cells": [
  {
   "cell_type": "markdown",
   "id": "8cc107c5",
   "metadata": {},
   "source": [
    "# 1. T test"
   ]
  },
  {
   "cell_type": "code",
   "execution_count": 1,
   "id": "535b11e2",
   "metadata": {},
   "outputs": [],
   "source": [
    "from scipy.stats import ttest_1samp # this is a one, not an L"
   ]
  },
  {
   "cell_type": "code",
   "execution_count": 2,
   "id": "4f389927",
   "metadata": {},
   "outputs": [],
   "source": [
    "from scipy.stats import norm"
   ]
  },
  {
   "cell_type": "code",
   "execution_count": 3,
   "id": "0a04f883",
   "metadata": {},
   "outputs": [],
   "source": [
    "data = [87,68,69,71,85,86,76]"
   ]
  },
  {
   "cell_type": "code",
   "execution_count": 4,
   "id": "e8996166",
   "metadata": {},
   "outputs": [],
   "source": [
    "test = ttest_1samp(a=data,popmean=85)"
   ]
  },
  {
   "cell_type": "code",
   "execution_count": 5,
   "id": "bb17c9aa",
   "metadata": {},
   "outputs": [
    {
     "name": "stdout",
     "output_type": "stream",
     "text": [
      "Ttest_1sampResult(statistic=-2.378172554291756, pvalue=0.054904857540624415)\n"
     ]
    }
   ],
   "source": [
    "print (test)"
   ]
  },
  {
   "cell_type": "code",
   "execution_count": 6,
   "id": "24bcffa4",
   "metadata": {},
   "outputs": [],
   "source": [
    "# there is no extreme result - we don´t have enough evidence\n",
    "# to claim that the boys are underweight\n",
    "# we would accept the H0 and reject the HA"
   ]
  },
  {
   "cell_type": "code",
   "execution_count": 7,
   "id": "4762293e",
   "metadata": {},
   "outputs": [],
   "source": [
    "# if we don´t have the reding / observation we can do like this\n",
    "sample_mean=80.94\n",
    "pop_mean=85\n",
    "sample_std=11.6\n",
    "n=25"
   ]
  },
  {
   "cell_type": "code",
   "execution_count": 8,
   "id": "d777e6a3",
   "metadata": {},
   "outputs": [],
   "source": [
    "import math"
   ]
  },
  {
   "cell_type": "code",
   "execution_count": 9,
   "id": "70515b91",
   "metadata": {},
   "outputs": [],
   "source": [
    "t_statistic = (sample_mean - pop_mean)/(sample_std/(math.sqrt(n-1)))"
   ]
  },
  {
   "cell_type": "code",
   "execution_count": 10,
   "id": "29a7c237",
   "metadata": {},
   "outputs": [
    {
     "data": {
      "text/plain": [
       "-1.7146428199482255"
      ]
     },
     "execution_count": 10,
     "metadata": {},
     "output_type": "execute_result"
    }
   ],
   "source": [
    "t_statistic"
   ]
  },
  {
   "cell_type": "code",
   "execution_count": 11,
   "id": "84e0b59e",
   "metadata": {},
   "outputs": [],
   "source": [
    "# p value\n",
    "p_value=norm.cdf(t_statistic)"
   ]
  },
  {
   "cell_type": "code",
   "execution_count": 12,
   "id": "ee27ebab",
   "metadata": {},
   "outputs": [
    {
     "data": {
      "text/plain": [
       "0.04320536648684992"
      ]
     },
     "execution_count": 12,
     "metadata": {},
     "output_type": "execute_result"
    }
   ],
   "source": [
    "p_value"
   ]
  },
  {
   "cell_type": "code",
   "execution_count": 13,
   "id": "b757d2a6",
   "metadata": {},
   "outputs": [],
   "source": [
    "# critical value\n",
    "critical_value=norm.ppf(0.05)"
   ]
  },
  {
   "cell_type": "code",
   "execution_count": 14,
   "id": "54d3c68c",
   "metadata": {},
   "outputs": [
    {
     "data": {
      "text/plain": [
       "-1.6448536269514729"
      ]
     },
     "execution_count": 14,
     "metadata": {},
     "output_type": "execute_result"
    }
   ],
   "source": [
    "critical_value"
   ]
  },
  {
   "cell_type": "code",
   "execution_count": 15,
   "id": "d273c090",
   "metadata": {},
   "outputs": [],
   "source": [
    "# if we are not consistent - accept H0\n",
    "# in this case we DO have statistical evidence that the boys are underweight"
   ]
  },
  {
   "cell_type": "markdown",
   "id": "1f0112a8",
   "metadata": {},
   "source": [
    "# 2. Anova test exmple"
   ]
  },
  {
   "cell_type": "code",
   "execution_count": 16,
   "id": "daa0de6c",
   "metadata": {},
   "outputs": [],
   "source": [
    "import pandas as pd"
   ]
  },
  {
   "cell_type": "code",
   "execution_count": 17,
   "id": "491e7b6e",
   "metadata": {},
   "outputs": [],
   "source": [
    "df=pd.read_excel('anova_class_example_data.xlsx')"
   ]
  },
  {
   "cell_type": "code",
   "execution_count": 18,
   "id": "b7d4a7ec",
   "metadata": {},
   "outputs": [
    {
     "data": {
      "text/html": [
       "<div>\n",
       "<style scoped>\n",
       "    .dataframe tbody tr th:only-of-type {\n",
       "        vertical-align: middle;\n",
       "    }\n",
       "\n",
       "    .dataframe tbody tr th {\n",
       "        vertical-align: top;\n",
       "    }\n",
       "\n",
       "    .dataframe thead th {\n",
       "        text-align: right;\n",
       "    }\n",
       "</style>\n",
       "<table border=\"1\" class=\"dataframe\">\n",
       "  <thead>\n",
       "    <tr style=\"text-align: right;\">\n",
       "      <th></th>\n",
       "      <th>Display_design</th>\n",
       "      <th>Percent_increase_in_sales</th>\n",
       "    </tr>\n",
       "  </thead>\n",
       "  <tbody>\n",
       "    <tr>\n",
       "      <th>0</th>\n",
       "      <td>1</td>\n",
       "      <td>575</td>\n",
       "    </tr>\n",
       "    <tr>\n",
       "      <th>1</th>\n",
       "      <td>2</td>\n",
       "      <td>565</td>\n",
       "    </tr>\n",
       "    <tr>\n",
       "      <th>2</th>\n",
       "      <td>3</td>\n",
       "      <td>600</td>\n",
       "    </tr>\n",
       "    <tr>\n",
       "      <th>3</th>\n",
       "      <td>4</td>\n",
       "      <td>725</td>\n",
       "    </tr>\n",
       "    <tr>\n",
       "      <th>4</th>\n",
       "      <td>1</td>\n",
       "      <td>542</td>\n",
       "    </tr>\n",
       "    <tr>\n",
       "      <th>5</th>\n",
       "      <td>2</td>\n",
       "      <td>593</td>\n",
       "    </tr>\n",
       "    <tr>\n",
       "      <th>6</th>\n",
       "      <td>3</td>\n",
       "      <td>651</td>\n",
       "    </tr>\n",
       "    <tr>\n",
       "      <th>7</th>\n",
       "      <td>4</td>\n",
       "      <td>700</td>\n",
       "    </tr>\n",
       "    <tr>\n",
       "      <th>8</th>\n",
       "      <td>1</td>\n",
       "      <td>530</td>\n",
       "    </tr>\n",
       "    <tr>\n",
       "      <th>9</th>\n",
       "      <td>2</td>\n",
       "      <td>590</td>\n",
       "    </tr>\n",
       "    <tr>\n",
       "      <th>10</th>\n",
       "      <td>3</td>\n",
       "      <td>610</td>\n",
       "    </tr>\n",
       "    <tr>\n",
       "      <th>11</th>\n",
       "      <td>4</td>\n",
       "      <td>715</td>\n",
       "    </tr>\n",
       "    <tr>\n",
       "      <th>12</th>\n",
       "      <td>1</td>\n",
       "      <td>539</td>\n",
       "    </tr>\n",
       "    <tr>\n",
       "      <th>13</th>\n",
       "      <td>2</td>\n",
       "      <td>579</td>\n",
       "    </tr>\n",
       "    <tr>\n",
       "      <th>14</th>\n",
       "      <td>3</td>\n",
       "      <td>637</td>\n",
       "    </tr>\n",
       "    <tr>\n",
       "      <th>15</th>\n",
       "      <td>4</td>\n",
       "      <td>685</td>\n",
       "    </tr>\n",
       "    <tr>\n",
       "      <th>16</th>\n",
       "      <td>1</td>\n",
       "      <td>570</td>\n",
       "    </tr>\n",
       "    <tr>\n",
       "      <th>17</th>\n",
       "      <td>2</td>\n",
       "      <td>610</td>\n",
       "    </tr>\n",
       "    <tr>\n",
       "      <th>18</th>\n",
       "      <td>3</td>\n",
       "      <td>629</td>\n",
       "    </tr>\n",
       "    <tr>\n",
       "      <th>19</th>\n",
       "      <td>4</td>\n",
       "      <td>710</td>\n",
       "    </tr>\n",
       "  </tbody>\n",
       "</table>\n",
       "</div>"
      ],
      "text/plain": [
       "    Display_design  Percent_increase_in_sales\n",
       "0                1                        575\n",
       "1                2                        565\n",
       "2                3                        600\n",
       "3                4                        725\n",
       "4                1                        542\n",
       "5                2                        593\n",
       "6                3                        651\n",
       "7                4                        700\n",
       "8                1                        530\n",
       "9                2                        590\n",
       "10               3                        610\n",
       "11               4                        715\n",
       "12               1                        539\n",
       "13               2                        579\n",
       "14               3                        637\n",
       "15               4                        685\n",
       "16               1                        570\n",
       "17               2                        610\n",
       "18               3                        629\n",
       "19               4                        710"
      ]
     },
     "execution_count": 18,
     "metadata": {},
     "output_type": "execute_result"
    }
   ],
   "source": [
    "df"
   ]
  },
  {
   "cell_type": "code",
   "execution_count": 19,
   "id": "0bc90105",
   "metadata": {},
   "outputs": [],
   "source": [
    "import statsmodels.api as sm"
   ]
  },
  {
   "cell_type": "code",
   "execution_count": 20,
   "id": "67e2731e",
   "metadata": {},
   "outputs": [],
   "source": [
    "from statsmodels.formula.api import ols # ordinary least squares"
   ]
  },
  {
   "cell_type": "code",
   "execution_count": null,
   "id": "4cfd43cf",
   "metadata": {},
   "outputs": [],
   "source": [
    "# samples should be indepedent\n",
    "# samples should be similar period of time - the same 5 days\n",
    "# more than 2 samples\n",
    "# interested in difference not which is better | worse"
   ]
  },
  {
   "cell_type": "code",
   "execution_count": 21,
   "id": "2272d7cf",
   "metadata": {},
   "outputs": [],
   "source": [
    "model=ols('Percent_increase_in_sales ~ C (Display_design)', data =df).fit()"
   ]
  },
  {
   "cell_type": "code",
   "execution_count": 22,
   "id": "ea17cc46",
   "metadata": {},
   "outputs": [],
   "source": [
    "results_table=sm.stats.anova_lm(model)"
   ]
  },
  {
   "cell_type": "code",
   "execution_count": 23,
   "id": "b8edd164",
   "metadata": {},
   "outputs": [
    {
     "data": {
      "text/html": [
       "<div>\n",
       "<style scoped>\n",
       "    .dataframe tbody tr th:only-of-type {\n",
       "        vertical-align: middle;\n",
       "    }\n",
       "\n",
       "    .dataframe tbody tr th {\n",
       "        vertical-align: top;\n",
       "    }\n",
       "\n",
       "    .dataframe thead th {\n",
       "        text-align: right;\n",
       "    }\n",
       "</style>\n",
       "<table border=\"1\" class=\"dataframe\">\n",
       "  <thead>\n",
       "    <tr style=\"text-align: right;\">\n",
       "      <th></th>\n",
       "      <th>df</th>\n",
       "      <th>sum_sq</th>\n",
       "      <th>mean_sq</th>\n",
       "      <th>F</th>\n",
       "      <th>PR(&gt;F)</th>\n",
       "    </tr>\n",
       "  </thead>\n",
       "  <tbody>\n",
       "    <tr>\n",
       "      <th>C(Display_design)</th>\n",
       "      <td>3.0</td>\n",
       "      <td>66870.55</td>\n",
       "      <td>22290.183333</td>\n",
       "      <td>66.797073</td>\n",
       "      <td>2.882866e-09</td>\n",
       "    </tr>\n",
       "    <tr>\n",
       "      <th>Residual</th>\n",
       "      <td>16.0</td>\n",
       "      <td>5339.20</td>\n",
       "      <td>333.700000</td>\n",
       "      <td>NaN</td>\n",
       "      <td>NaN</td>\n",
       "    </tr>\n",
       "  </tbody>\n",
       "</table>\n",
       "</div>"
      ],
      "text/plain": [
       "                     df    sum_sq       mean_sq          F        PR(>F)\n",
       "C(Display_design)   3.0  66870.55  22290.183333  66.797073  2.882866e-09\n",
       "Residual           16.0   5339.20    333.700000        NaN           NaN"
      ]
     },
     "execution_count": 23,
     "metadata": {},
     "output_type": "execute_result"
    }
   ],
   "source": [
    "results_table"
   ]
  },
  {
   "cell_type": "code",
   "execution_count": null,
   "id": "07aafd3e",
   "metadata": {},
   "outputs": [],
   "source": [
    "# P value is < 0.01 so we can reject H0 and say there is a difference in sales depending on display"
   ]
  },
  {
   "cell_type": "code",
   "execution_count": null,
   "id": "137be6eb",
   "metadata": {},
   "outputs": [],
   "source": [
    "# F value - compare to an F table\n",
    "# reject H0\n",
    "# - design DOES matter"
   ]
  },
  {
   "cell_type": "code",
   "execution_count": null,
   "id": "0fad9fa9",
   "metadata": {},
   "outputs": [],
   "source": []
  },
  {
   "cell_type": "code",
   "execution_count": null,
   "id": "9145ff6e",
   "metadata": {},
   "outputs": [],
   "source": []
  },
  {
   "cell_type": "code",
   "execution_count": null,
   "id": "6ddec39b",
   "metadata": {},
   "outputs": [],
   "source": []
  },
  {
   "cell_type": "code",
   "execution_count": null,
   "id": "efcd8f5c",
   "metadata": {},
   "outputs": [],
   "source": []
  },
  {
   "cell_type": "code",
   "execution_count": null,
   "id": "8b7fe432",
   "metadata": {},
   "outputs": [],
   "source": []
  },
  {
   "cell_type": "code",
   "execution_count": null,
   "id": "6a65798a",
   "metadata": {},
   "outputs": [],
   "source": []
  },
  {
   "cell_type": "code",
   "execution_count": null,
   "id": "b8dbd561",
   "metadata": {},
   "outputs": [],
   "source": []
  },
  {
   "cell_type": "code",
   "execution_count": null,
   "id": "4f36effe",
   "metadata": {},
   "outputs": [],
   "source": []
  },
  {
   "cell_type": "code",
   "execution_count": null,
   "id": "98aef084",
   "metadata": {},
   "outputs": [],
   "source": []
  },
  {
   "cell_type": "code",
   "execution_count": null,
   "id": "03b06b9c",
   "metadata": {},
   "outputs": [],
   "source": []
  },
  {
   "cell_type": "code",
   "execution_count": null,
   "id": "5d812916",
   "metadata": {},
   "outputs": [],
   "source": []
  }
 ],
 "metadata": {
  "kernelspec": {
   "display_name": "Python 3 (ipykernel)",
   "language": "python",
   "name": "python3"
  },
  "language_info": {
   "codemirror_mode": {
    "name": "ipython",
    "version": 3
   },
   "file_extension": ".py",
   "mimetype": "text/x-python",
   "name": "python",
   "nbconvert_exporter": "python",
   "pygments_lexer": "ipython3",
   "version": "3.8.2"
  }
 },
 "nbformat": 4,
 "nbformat_minor": 5
}
