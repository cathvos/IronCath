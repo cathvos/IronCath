{
 "cells": [
  {
   "cell_type": "markdown",
   "id": "c031c192",
   "metadata": {},
   "source": [
    "# Lab | feature engineering"
   ]
  },
  {
   "cell_type": "markdown",
   "id": "485a5ecf",
   "metadata": {},
   "source": [
    "### Your first task for the lab is to obtain the titanic data from kaggle and analyse it yourself, \n",
    "### in python or tableau, to understand the features available. This does not need to be a lengthy EDA process \n",
    "### but you should at least be in a position to summarise which features seem to have the highest impact on survival rate. \n",
    "### Summarise your findings in a readme file in your github repo, which can be submitted to us for the lab. "
   ]
  },
  {
   "cell_type": "code",
   "execution_count": null,
   "id": "3ad57c32",
   "metadata": {},
   "outputs": [],
   "source": []
  },
  {
   "cell_type": "code",
   "execution_count": null,
   "id": "bf1f63a5",
   "metadata": {},
   "outputs": [],
   "source": []
  },
  {
   "cell_type": "markdown",
   "id": "da74d5ed",
   "metadata": {},
   "source": [
    "### Your second task for the lab is to review a random sample of the entries ( at least 5 notebooks) - perhaps working down the leaderboard or using the code 'hotness' list -  to identify:\n",
    "\n",
    "- any feature engineering or feature wrangling methods which you have seen? \n",
    "\n",
    "- did they impute any missing values? \n",
    "\n",
    "-  what about scaling methods for numerical variables?\n",
    "\n",
    "- what about encoding categorical variables?\n",
    "\n",
    "- any evidence of overfit or sampling bias ? \n",
    "\n",
    "### Make notes on these aspects in your readme file including the links to the titanic notebooks you researched and submit it to complete the lab. "
   ]
  },
  {
   "cell_type": "code",
   "execution_count": null,
   "id": "d32363de",
   "metadata": {},
   "outputs": [],
   "source": []
  },
  {
   "cell_type": "code",
   "execution_count": null,
   "id": "5832307f",
   "metadata": {},
   "outputs": [],
   "source": []
  },
  {
   "cell_type": "code",
   "execution_count": null,
   "id": "64f96e79",
   "metadata": {},
   "outputs": [],
   "source": []
  }
 ],
 "metadata": {
  "kernelspec": {
   "display_name": "Python 3 (ipykernel)",
   "language": "python",
   "name": "python3"
  },
  "language_info": {
   "codemirror_mode": {
    "name": "ipython",
    "version": 3
   },
   "file_extension": ".py",
   "mimetype": "text/x-python",
   "name": "python",
   "nbconvert_exporter": "python",
   "pygments_lexer": "ipython3",
   "version": "3.8.2"
  }
 },
 "nbformat": 4,
 "nbformat_minor": 5
}
